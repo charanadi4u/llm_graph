{
 "cells": [
  {
   "cell_type": "code",
   "execution_count": 2,
   "id": "827db04f-d1a6-4a09-a9a2-6a5b18ed646a",
   "metadata": {},
   "outputs": [],
   "source": [
    "import os\n",
    "from langchain_groq import ChatGroq\n",
    "from langchain.graphs import Neo4jGraph\n",
    "from langchain.chains import GraphCypherQAChain\n",
    "from langchain.prompts import PromptTemplate"
   ]
  },
  {
   "cell_type": "code",
   "execution_count": 3,
   "id": "4442031e-e263-4156-a63c-e9651df2109c",
   "metadata": {},
   "outputs": [],
   "source": [
    "groq_api_key = os.getenv(\"GROQ-API_KEY\")"
   ]
  },
  {
   "cell_type": "code",
   "execution_count": 4,
   "id": "829071a0-be0f-4014-b52d-f10626c939f5",
   "metadata": {},
   "outputs": [],
   "source": [
    "LLM = ChatGroq(model=\"mixtral-8x7b-32768\", api_key=groq_api_key,temperature=0)"
   ]
  },
  {
   "cell_type": "code",
   "execution_count": 13,
   "id": "b4d4c4f3-ca3d-478b-a001-a47c2b3d40ac",
   "metadata": {},
   "outputs": [],
   "source": [
    "graph = Neo4jGraph(url=\"bolt://44.200.51.232:7687\",\n",
    "    username=\"neo4j\",\n",
    "    password=\"troops-runs-measurement\",\n",
    "    database = \"neo4j\")"
   ]
  },
  {
   "cell_type": "code",
   "execution_count": 14,
   "id": "81b8db76-74e1-4ed0-b00a-8869e7a145dd",
   "metadata": {},
   "outputs": [
    {
     "name": "stdout",
     "output_type": "stream",
     "text": [
      "\n",
      "\n",
      "\u001b[1m> Entering new GraphCypherQAChain chain...\u001b[0m\n",
      "Generated Cypher:\n",
      "\u001b[32;1m\u001b[1;3m\n",
      "MATCH (p:Person)-[:ACTED_IN]->(m:Movie)\n",
      "WHERE p.name = 'Tom Hanks'\n",
      "RETURN count(m) AS number_of_movies, collect(m.title) AS movie_titles\n",
      "\u001b[0m\n",
      "Full Context:\n",
      "\u001b[32;1m\u001b[1;3m[{'number_of_movies': 12, 'movie_titles': ['Apollo 13', \"You've Got Mail\", 'A League of Their Own', 'Joe Versus the Volcano', 'That Thing You Do', 'The Da Vinci Code', 'Cloud Atlas', 'Cast Away', 'The Green Mile', 'Sleepless in Seattle', 'The Polar Express', \"Charlie Wilson's War\"]}]\u001b[0m\n",
      "\n",
      "\u001b[1m> Finished chain.\u001b[0m\n"
     ]
    },
    {
     "data": {
      "text/plain": [
       "'Tom Hanks has acted in a total of 12 movies, and those are: [\\'Apollo 13\\', \"You\\'ve Got Mail\", \\'A League of Their Own\\', \\'Joe Versus the Volcano\\', \\'That Thing You Do\\', \\'The Da Vinci Code\\', \\'Cloud Atlas\\', \\'Cast Away\\', \\'The Green Mile\\', \\'Sleepless in Seattle\\', \\'The Polar Express\\', \"Charlie Wilson\\'s War\"].'"
      ]
     },
     "execution_count": 14,
     "metadata": {},
     "output_type": "execute_result"
    }
   ],
   "source": [
    "CYPHER_GENERATION_TEMPLATE = \"\"\"\n",
    "You are an expert Neo4j Developer translating user questions into Cypher to answer questions about movies and provide recommendations.\n",
    "Convert the user's question based on the schema.\n",
    "\n",
    "Schema: {schema}\n",
    "Question: {question}\n",
    "\"\"\"\n",
    "\n",
    "cypher_generation_prompt = PromptTemplate(\n",
    "    template=CYPHER_GENERATION_TEMPLATE,\n",
    "    input_variables=[\"schema\", \"question\"],\n",
    ")\n",
    "\n",
    "cypher_chain = GraphCypherQAChain.from_llm(\n",
    "    LLM,\n",
    "    graph=graph,\n",
    "    cypher_prompt=cypher_generation_prompt,\n",
    "    verbose=True\n",
    ")\n",
    "\n",
    "cypher_chain.run(\"In which movies  acted Tom Hanks? return the number and a list of them\")"
   ]
  },
  {
   "cell_type": "code",
   "execution_count": 15,
   "id": "df724a1d-6bd1-468e-a0ea-89534efe0a97",
   "metadata": {},
   "outputs": [
    {
     "name": "stdout",
     "output_type": "stream",
     "text": [
      "\n",
      "\n",
      "\u001b[1m> Entering new GraphCypherQAChain chain...\u001b[0m\n",
      "Generated Cypher:\n",
      "\u001b[32;1m\u001b[1;3m\n",
      "MATCH (p:Person)-[:ACTED_IN]->(m:Movie)\n",
      "WHERE p.name = 'Meg Ryan'\n",
      "RETURN count(m) AS count, collect(m.title) AS movie_names\n",
      "\u001b[0m\n",
      "Full Context:\n",
      "\u001b[32;1m\u001b[1;3m[{'count': 5, 'movie_names': ['Sleepless in Seattle', \"You've Got Mail\", 'Top Gun', 'When Harry Met Sally', 'Joe Versus the Volcano']}]\u001b[0m\n",
      "\n",
      "\u001b[1m> Finished chain.\u001b[0m\n"
     ]
    },
    {
     "data": {
      "text/plain": [
       "'Meg Ryan has acted in a total of 5 movies, including \"Sleepless in Seattle\", \"You\\'ve Got Mail\", \"Top Gun\", \"When Harry Met Sally\", and \"Joe Versus the Volcano\".'"
      ]
     },
     "execution_count": 15,
     "metadata": {},
     "output_type": "execute_result"
    }
   ],
   "source": [
    "cypher_chain.run(\"What movies did Meg Ryan act in? return the count and list of names\")"
   ]
  },
  {
   "cell_type": "code",
   "execution_count": 16,
   "id": "baeaeab6-4e60-4606-8938-a1e5020a1661",
   "metadata": {},
   "outputs": [
    {
     "name": "stdout",
     "output_type": "stream",
     "text": [
      "\n",
      "\n",
      "\u001b[1m> Entering new GraphCypherQAChain chain...\u001b[0m\n",
      "Generated Cypher:\n",
      "\u001b[32;1m\u001b[1;3m\n",
      "MATCH (p:Person)-[:ACTED_IN]->(m:Movie)\n",
      "WHERE m.title = 'Top Gun'\n",
      "RETURN p.name\n",
      "\u001b[0m\n",
      "Full Context:\n",
      "\u001b[32;1m\u001b[1;3m[{'p.name': 'Val Kilmer'}, {'p.name': 'Meg Ryan'}, {'p.name': 'Tom Skerritt'}, {'p.name': 'Kelly McGillis'}, {'p.name': 'Tom Cruise'}, {'p.name': 'Anthony Edwards'}]\u001b[0m\n",
      "\n",
      "\u001b[1m> Finished chain.\u001b[0m\n"
     ]
    },
    {
     "data": {
      "text/plain": [
       "'Val Kilmer, Meg Ryan, Tom Skerritt, Kelly McGillis, Tom Cruise, and Anthony Edwards played in Top Gun.'"
      ]
     },
     "execution_count": 16,
     "metadata": {},
     "output_type": "execute_result"
    }
   ],
   "source": [
    "cypher_chain.run(\"Who played in Top Gun?\")"
   ]
  },
  {
   "cell_type": "code",
   "execution_count": null,
   "id": "9376a785-8f97-4648-bb84-da8dc9fd9520",
   "metadata": {},
   "outputs": [],
   "source": []
  }
 ],
 "metadata": {
  "kernelspec": {
   "display_name": "Python 3 (ipykernel)",
   "language": "python",
   "name": "python3"
  },
  "language_info": {
   "codemirror_mode": {
    "name": "ipython",
    "version": 3
   },
   "file_extension": ".py",
   "mimetype": "text/x-python",
   "name": "python",
   "nbconvert_exporter": "python",
   "pygments_lexer": "ipython3",
   "version": "3.11.7"
  }
 },
 "nbformat": 4,
 "nbformat_minor": 5
}
